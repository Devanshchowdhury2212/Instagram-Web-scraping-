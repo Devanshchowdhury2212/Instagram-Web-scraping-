{
 "cells": [
  {
   "cell_type": "code",
   "execution_count": 1,
   "metadata": {},
   "outputs": [],
   "source": [
    "from selenium import webdriver\n",
    "from selenium.webdriver.support import expected_conditions as EC\n",
    "from selenium.webdriver.common.keys import Keys\n",
    "from selenium.webdriver.support.ui import WebDriverWait\n",
    "from selenium.common.exceptions import TimeoutException\n",
    "from selenium.common.exceptions import SessionNotCreatedException,StaleElementReferenceException,NoSuchElementException\n",
    "import time\n",
    "from selenium.webdriver.common.by import By\n",
    "import re"
   ]
  },
  {
   "cell_type": "code",
   "execution_count": 2,
   "metadata": {},
   "outputs": [
    {
     "name": "stdout",
     "output_type": "stream",
     "text": [
      "Requirement already satisfied: webdriver_manager in /home/blank/anaconda3/lib/python3.7/site-packages (3.2.2)\n",
      "Requirement already satisfied: requests in /home/blank/anaconda3/lib/python3.7/site-packages (from webdriver_manager) (2.24.0)\n",
      "Requirement already satisfied: crayons in /home/blank/anaconda3/lib/python3.7/site-packages (from webdriver_manager) (0.4.0)\n",
      "Requirement already satisfied: configparser in /home/blank/anaconda3/lib/python3.7/site-packages (from webdriver_manager) (5.0.1)\n",
      "Requirement already satisfied: certifi>=2017.4.17 in /home/blank/anaconda3/lib/python3.7/site-packages (from requests->webdriver_manager) (2020.6.20)\n",
      "Requirement already satisfied: chardet<4,>=3.0.2 in /home/blank/anaconda3/lib/python3.7/site-packages (from requests->webdriver_manager) (3.0.4)\n",
      "Requirement already satisfied: idna<3,>=2.5 in /home/blank/anaconda3/lib/python3.7/site-packages (from requests->webdriver_manager) (2.10)\n",
      "Requirement already satisfied: urllib3!=1.25.0,!=1.25.1,<1.26,>=1.21.1 in /home/blank/anaconda3/lib/python3.7/site-packages (from requests->webdriver_manager) (1.25.11)\n",
      "Requirement already satisfied: colorama in /home/blank/anaconda3/lib/python3.7/site-packages (from crayons->webdriver_manager) (0.4.4)\n"
     ]
    },
    {
     "name": "stderr",
     "output_type": "stream",
     "text": [
      "[WDM] - Current google-chrome version is 86.0.4240\n",
      "[WDM] - Get LATEST driver version for 86.0.4240\n"
     ]
    },
    {
     "name": "stdout",
     "output_type": "stream",
     "text": [
      " \n"
     ]
    },
    {
     "name": "stderr",
     "output_type": "stream",
     "text": [
      "[WDM] - Driver [/home/blank/.wdm/drivers/chromedriver/linux64/86.0.4240.22/chromedriver] found in cache\n"
     ]
    }
   ],
   "source": [
    "!pip install webdriver_manager\n",
    "from selenium import webdriver\n",
    "from webdriver_manager.chrome import ChromeDriverManager\n",
    "driver = webdriver.Chrome(ChromeDriverManager().install())"
   ]
  },
  {
   "cell_type": "code",
   "execution_count": 48,
   "metadata": {},
   "outputs": [],
   "source": [
    "base_url = 'https://www.instagram.com/'\n",
    "username='SAMPLE USERNAME'\n",
    "password = 'SAMPLE PASSWORD'"
   ]
  },
  {
   "cell_type": "code",
   "execution_count": 4,
   "metadata": {},
   "outputs": [],
   "source": [
    "driver.get(base_url)"
   ]
  },
  {
   "cell_type": "code",
   "execution_count": 11,
   "metadata": {},
   "outputs": [],
   "source": [
    "# Login to your Instagram Handle"
   ]
  },
  {
   "cell_type": "code",
   "execution_count": 5,
   "metadata": {},
   "outputs": [],
   "source": [
    "detail = driver.find_elements_by_class_name('_2hvTZ')\n",
    "detail[0].clear()\n",
    "detail[1].clear()\n",
    "detail[0].send_keys(username)\n",
    "detail[1].send_keys(password)"
   ]
  },
  {
   "cell_type": "code",
   "execution_count": 6,
   "metadata": {},
   "outputs": [],
   "source": [
    "driver.find_element_by_class_name('L3NKy').click()"
   ]
  },
  {
   "cell_type": "code",
   "execution_count": 7,
   "metadata": {},
   "outputs": [],
   "source": [
    "for i in driver.find_elements_by_tag_name('button'):\n",
    "    if i.text=='Not Now':\n",
    "        i.click()\n",
    "        break"
   ]
  },
  {
   "cell_type": "code",
   "execution_count": 8,
   "metadata": {},
   "outputs": [],
   "source": [
    "driver.find_element_by_class_name('HoLwm').click()"
   ]
  },
  {
   "cell_type": "code",
   "execution_count": 37,
   "metadata": {},
   "outputs": [],
   "source": [
    "def check_search(insta_handle):\n",
    "    driver.find_element_by_class_name('XTCLo').clear()\n",
    "    driver.find_element_by_class_name('XTCLo').send_keys(insta_handle)\n",
    "    drop = WebDriverWait(driver,5)\n",
    "    drop.until(EC.element_to_be_clickable((By.CLASS_NAME,'z556c')))\n",
    "    num = len(driver.find_elements_by_class_name('z556c'))\n",
    "    for i in driver.find_elements_by_class_name('yCE8d'):\n",
    "      print(i.text)\n",
    "    driver.find_element_by_class_name('aIYm8').click()\n",
    "def open_handle(insta_handle):\n",
    "    driver.get(base_url)\n",
    "    driver.find_element_by_class_name('XTCLo').clear()\n",
    "    driver.find_element_by_class_name('XTCLo').send_keys(insta_handle)\n",
    "    drop = WebDriverWait(driver,5)\n",
    "    drop.until(EC.element_to_be_clickable((By.CLASS_NAME,'z556c')))\n",
    "    num = len(driver.find_elements_by_class_name('z556c'))\n",
    "    driver.find_element_by_class_name('z556c').click()\n",
    "    time.sleep(3)\n",
    "def follow_unfollow(name):\n",
    "    if name:\n",
    "        driver.get(base_url)\n",
    "        open_handle(name)\n",
    "    while 2:\n",
    "        c = input('DO YOU WANT TO FOLLOW OR UNFOLLOW ? (Y/N)')\n",
    "        if c.lower()=='y':\n",
    "            if driver.find_element_by_class_name('vBF20').text:\n",
    "                driver.find_element_by_class_name('vBF20').click()\n",
    "            else:\n",
    "                print('Following Already')\n",
    "            break\n",
    "        elif c.lower()=='n':\n",
    "            if driver.find_element_by_class_name('vBF20').text=='':\n",
    "                driver.find_element_by_class_name('vBF20').click()\n",
    "                driver.find_element_by_class_name('-Cab_').click() \n",
    "            else:\n",
    "                print('UnFollowing  Already')\n",
    "            break\n",
    "def like_post(name,num = 30):\n",
    "    if driver.current_url==base_url or name :\n",
    "        open_handle(name)\n",
    "    cnt = 0\n",
    "    WebDriverWait(driver,3).until(EC.presence_of_all_elements_located((By.CLASS_NAME,'_9AhH0')))\n",
    "    driver.find_element_by_class_name('_9AhH0').click()\n",
    "    while 2:\n",
    "        time.sleep(2)\n",
    "        WebDriverWait(driver,6).until(EC.presence_of_element_located((By.XPATH,'/html/body/div[5]/div[2]/div/article/div[3]/section[1]/span[1]/button/div/span')))\n",
    "        msg = driver.find_element_by_xpath('/html/body/div[5]/div[2]/div/article/div[3]/section[1]/span[1]/button/div/span').get_attribute('innerHTML')\n",
    "        if re.search('Like',msg):        \n",
    "            print('NOW LIKED')\n",
    "            driver.find_element_by_xpath('/html/body/div[5]/div[2]/div/article/div[3]/section[1]/span[1]/button').click()\n",
    "        else:\n",
    "            print('Liked ALREADY')\n",
    "        cnt+=1\n",
    "        if cnt>num:\n",
    "            driver.find_elements_by_class_name('wpO6b')[-1].click()\n",
    "            break\n",
    "        driver.find_element_by_class_name('coreSpriteRightPaginationArrow').click()\n",
    "        \n",
    "def Unlike_post(name,num = 30):\n",
    "    if driver.current_url==base_url or name:\n",
    "        open_handle(name)\n",
    "    WebDriverWait(driver,3).until(EC.presence_of_all_elements_located((By.CLASS_NAME,'_9AhH0')))\n",
    "    cnt = 0\n",
    "    driver.find_element_by_class_name('_9AhH0').click()\n",
    "    while 2:\n",
    "        time.sleep(2)\n",
    "        WebDriverWait(driver,6).until(EC.presence_of_element_located((By.XPATH,'/html/body/div[5]/div[2]/div/article/div[3]/section[1]/span[1]/button/div/span')))\n",
    "        msg = driver.find_element_by_xpath('/html/body/div[5]/div[2]/div/article/div[3]/section[1]/span[1]/button/div/span').get_attribute('innerHTML')\n",
    "        if re.search('Unlike',msg):        \n",
    "            print('NOW UNLIKED')\n",
    "            driver.find_element_by_xpath('/html/body/div[5]/div[2]/div/article/div[3]/section[1]/span[1]/button').click()\n",
    "        else:\n",
    "            print('Unliked ALREADY')\n",
    "        cnt+=1\n",
    "        if cnt>num:\n",
    "            driver.find_elements_by_class_name('wpO6b')[-1].click()\n",
    "            break\n",
    "        driver.find_element_by_class_name('coreSpriteRightPaginationArrow').click()\n",
    "def extract_follower(name=''):\n",
    "    l=[]\n",
    "    if name:\n",
    "        open_handle(name)\n",
    "    time.sleep(6)\n",
    "    val = min(500,int(re.search(r'[\\d]+',driver.find_element_by_partial_link_text('followers').text).group()))\n",
    "    driver.find_element_by_partial_link_text('followers').click()\n",
    "    WebDriverWait(driver,8).until(EC.presence_of_all_elements_located((By.XPATH,'//a[contains(@class,\"FPmhX\")]')))\n",
    "    number = 0\n",
    "    while len(driver.find_elements_by_class_name('FPmhX'))<val:\n",
    "        WebDriverWait(driver,8).until(EC.element_to_be_clickable((By.CLASS_NAME,'FPmhX')))\n",
    "        time.sleep(2)\n",
    "        element_inside_popup = driver.find_element_by_class_name('FPmhX')\n",
    "        element_inside_popup.send_keys(Keys.END)\n",
    "        if number>=len(driver.find_elements_by_class_name('FPmhX')):\n",
    "            break\n",
    "        number = len(driver.find_elements_by_class_name('FPmhX'))\n",
    "    cnt = 1\n",
    "    follower = driver.find_elements_by_class_name('FPmhX')\n",
    "    for i in follower:\n",
    "        user_name = i.get_attribute('title')\n",
    "#         print(user_name)\n",
    "        l.append(user_name)\n",
    "        if cnt ==val:\n",
    "            break\n",
    "        cnt+=1\n",
    "    driver.find_elements_by_class_name('wpO6b')[-1].click()\n",
    "    return l\n",
    "def extract_following(name=''):\n",
    "    l=[]\n",
    "    if name:\n",
    "        open_handle(name)\n",
    "    time.sleep(6)\n",
    "    val = min(500,int(re.search(r'[\\d]+',driver.find_element_by_partial_link_text('following').text).group()))\n",
    "    driver.find_element_by_partial_link_text('following').click()\n",
    "    WebDriverWait(driver,8).until(EC.presence_of_all_elements_located((By.XPATH,'//a[contains(@class,\"FPmhX\")]')))\n",
    "    number = 0\n",
    "    while len(driver.find_elements_by_class_name('FPmhX'))<val:\n",
    "        WebDriverWait(driver,8).until(EC.presence_of_all_elements_located((By.CLASS_NAME,'FPmhX')))\n",
    "        time.sleep(2)\n",
    "        element_inside_popup = driver.find_element_by_class_name('FPmhX')\n",
    "        element_inside_popup.send_keys(Keys.END)\n",
    "        if number>=len(driver.find_elements_by_class_name('FPmhX')):\n",
    "            break\n",
    "        number = len(driver.find_elements_by_class_name('FPmhX'))\n",
    "    cnt = 1\n",
    "    follower = driver.find_elements_by_class_name('FPmhX')\n",
    "    for i in follower:\n",
    "        user_name = i.get_attribute('title')\n",
    "#         print(user_name)\n",
    "        l.append(user_name)\n",
    "        if cnt ==val:\n",
    "            break\n",
    "        cnt+=1\n",
    "    driver.find_elements_by_class_name('wpO6b')[-1].click()\n",
    "    return l\n",
    "def check_story(name):\n",
    "    open_handle(name)\n",
    "    currurl = driver.current_url\n",
    "    time.sleep(2)\n",
    "    ht_1 = driver.find_element_by_class_name('CfWVH').get_attribute('height')\n",
    "    time.sleep(2)\n",
    "    driver.find_element_by_class_name('_2dbep').click()\n",
    "    time.sleep(2)\n",
    "    if currurl == driver.current_url:\n",
    "        print('NO STORY')\n",
    "        return\n",
    "    while 2:\n",
    "        time.sleep(1)\n",
    "        if len(driver.find_elements_by_class_name('coreSpriteRightChevron'))>0:\n",
    "            driver.find_element_by_class_name('coreSpriteRightChevron').click()\n",
    "        else:\n",
    "            break\n",
    "        \n",
    "    \n",
    "    ht_2 = driver.find_element_by_class_name('CfWVH').get_attribute('height')    \n",
    "    if ht_1!=ht_2:\n",
    "        print('WAS NOT SEEN NOW SEEN')\n",
    "    else:\n",
    "        print('ALREADY SEEN')\n",
    "    "
   ]
  },
  {
   "cell_type": "code",
   "execution_count": 14,
   "metadata": {},
   "outputs": [],
   "source": [
    "# Type for “food” in search bar and print all the names of the Instagram Handles that are displayed in list after typing “food”"
   ]
  },
  {
   "cell_type": "code",
   "execution_count": 13,
   "metadata": {},
   "outputs": [
    {
     "name": "stdout",
     "output_type": "stream",
     "text": [
      "dilsefoodie\n",
      "Verified\n",
      "Karan Dua\n",
      "delhifoodwalks\n",
      "Verified\n",
      "Delhi Food Walks\n",
      "foodnetwork\n",
      "Verified\n",
      "Food Network\n",
      "yourfoodlab\n",
      "Verified\n",
      "Your Food Lab\n",
      "foodandwine\n",
      "Verified\n",
      "Food & Wine\n",
      "delhifoodguide\n",
      "Delhi Food Guide\n",
      "food\n",
      "Food\n",
      "street_food_chandigarh\n",
      "Street Food Chandigarh\n",
      "food_lunatic\n",
      "Dimple Arora\n",
      "foodgod\n",
      "Verified\n",
      "Foodgod®️\n",
      "thisisdelhi\n",
      "PRAGYA | Food & Lifestyle\n",
      "buzzfeedfood\n",
      "Verified\n",
      "BuzzFeed Food\n",
      "foodiesince96\n",
      "MEHAK DHAWAN 💕\n",
      "foodinsider\n",
      "Verified\n",
      "Food Insider\n",
      "foodtrails_hyderabad\n",
      "foodtrails.\n",
      "cravingsandcalories\n",
      "Simran and Tushar - 2 foodies\n",
      "hyderabad.food.diaries\n",
      "Mohd Zubair Ali\n",
      "food_maple05\n",
      "Trisha Khattar\n",
      "thefoodranger\n",
      "Verified\n",
      "Trevor James\n",
      "foodie_incarnate\n",
      "Verified\n",
      "Amar Sirohi\n",
      "foodaholicgirish\n",
      "Girish Taku (Food & Fitness)\n",
      "fooddiariesss\n",
      "Fooddiariesss\n",
      "food_junc\n",
      "Karnika Chandna\n",
      "ndtv_food\n",
      "Verified\n",
      "NDTV Food\n",
      "food_travel_etc\n",
      "Anchit Jain\n",
      "foodiearuna\n",
      "Aruna Bansal- Food & Lifestyle\n",
      "foodmaniacindia\n",
      "Food Maniac India™\n",
      "foodpaths_\n",
      "Acckriti | Food enthusiast\n",
      "foodhallindia\n",
      "Verified\n",
      "Foodhall\n",
      "foodiesparsh\n",
      "Sparsh Ahuja\n",
      "foodiliciousmoments\n",
      "Bishmeet\n",
      "foodiesdelhite\n",
      "Delhi | Noida | Food | Blogger\n",
      "hmm_nikhil\n",
      "Verified\n",
      "Nikhil Chawla | Delhi Food\n",
      "delhi_streets_food\n",
      "Foodie Ashwani\n",
      "foodsanyasi\n",
      "Dhruv | Ahmedabad Food Blogger\n",
      "delhifoodie\n",
      "Delhifoodie\n",
      "food_blogger290\n",
      "FoodieForLife🧿\n",
      "streetfoodrecipe\n",
      "facebook/Street Food Recipes\n",
      "food_affair\n",
      "Saloni Gupta\n",
      "ruchika_asatkar\n",
      "FOOD BLOGGER & TRAVELER\n",
      "jaipurfood\n",
      "Jaipur's Food\n",
      "foodfusionpk\n",
      "Food Fusion\n",
      "foodiebliss09\n",
      "Prabhleen Twinkle Nagra 💜\n",
      "foodrush.recipe\n",
      "FoodRush\n",
      "delhifoodblogger\n",
      "Sidhant\n",
      "#food\n",
      "418,912,513 posts\n",
      "#foodphotography\n",
      "67,606,120 posts\n",
      "foodchrome\n",
      "Foodchrome | Indian food\n",
      "foodmapjaipur\n",
      "Food Map Jaipur\n",
      "#foodie\n",
      "170,690,997 posts\n",
      "#foodporn\n",
      "246,239,750 posts\n",
      "myfoodproject\n",
      "Shagun Malhotra\n",
      "#foodstagram\n",
      "80,032,325 posts\n",
      "food_and_makeup_lover\n",
      "MEHNAZ FAROOQUI\n",
      "foodie_anshul\n",
      "Just Another Foodie🍕🐻\n",
      "#foodblogger\n",
      "50,661,595 posts\n"
     ]
    }
   ],
   "source": [
    "check_search('food')"
   ]
  },
  {
   "cell_type": "code",
   "execution_count": 15,
   "metadata": {},
   "outputs": [],
   "source": [
    "# Searching and Opening a profile using  Open profile of “So Delhi” "
   ]
  },
  {
   "cell_type": "code",
   "execution_count": 16,
   "metadata": {},
   "outputs": [],
   "source": [
    "open_handle('So Delhi')"
   ]
  },
  {
   "cell_type": "code",
   "execution_count": 21,
   "metadata": {},
   "outputs": [],
   "source": [
    "# Follow/Unfollow given handle - \n",
    "# Open the Instagram Handle of “So Delhi”\n",
    "# Start following it. Print a message if you are already following\n",
    "# After following, unfollow the instagram handle. Print a message if you have already unfollowed."
   ]
  },
  {
   "cell_type": "code",
   "execution_count": 20,
   "metadata": {},
   "outputs": [
    {
     "name": "stdout",
     "output_type": "stream",
     "text": [
      "DO YOU WANT TO FOLLOW OR UNFOLLOW ? (Y/N)Y\n",
      "DO YOU WANT TO FOLLOW OR UNFOLLOW ? (Y/N)Y\n",
      "Following Already\n",
      "DO YOU WANT TO FOLLOW OR UNFOLLOW ? (Y/N)N\n",
      "DO YOU WANT TO FOLLOW OR UNFOLLOW ? (Y/N)N\n",
      "UnFollowing  Already\n"
     ]
    }
   ],
   "source": [
    "follow_unfollow('So Delhi')\n",
    "follow_unfollow('So Delhi')\n",
    "follow_unfollow('So Delhi')\n",
    "follow_unfollow('So Delhi')"
   ]
  },
  {
   "cell_type": "code",
   "execution_count": 22,
   "metadata": {},
   "outputs": [],
   "source": [
    "# Like/Unlike posts\n",
    "# Liking the top 30 posts of the ‘dilsefoodie'. Print message if you have already liked it.\n",
    "# Unliking the top 30 posts of the ‘dilsefoodie’. Print message if you have already unliked it."
   ]
  },
  {
   "cell_type": "code",
   "execution_count": 39,
   "metadata": {},
   "outputs": [
    {
     "name": "stdout",
     "output_type": "stream",
     "text": [
      "NOW LIKED\n",
      "NOW LIKED\n",
      "NOW LIKED\n",
      "NOW LIKED\n",
      "NOW LIKED\n",
      "NOW LIKED\n",
      "NOW LIKED\n",
      "NOW LIKED\n",
      "Liked ALREADY\n",
      "Liked ALREADY\n",
      "Liked ALREADY\n",
      "Liked ALREADY\n",
      "Liked ALREADY\n",
      "Liked ALREADY\n",
      "Liked ALREADY\n",
      "Liked ALREADY\n",
      "Liked ALREADY\n",
      "Liked ALREADY\n",
      "Liked ALREADY\n",
      "Liked ALREADY\n",
      "Liked ALREADY\n",
      "Liked ALREADY\n",
      "Liked ALREADY\n",
      "Liked ALREADY\n",
      "Liked ALREADY\n",
      "Liked ALREADY\n",
      "Liked ALREADY\n",
      "Liked ALREADY\n",
      "Liked ALREADY\n",
      "Liked ALREADY\n",
      "Liked ALREADY\n"
     ]
    }
   ],
   "source": [
    "like_post('dilsefoodie')"
   ]
  },
  {
   "cell_type": "code",
   "execution_count": 40,
   "metadata": {},
   "outputs": [
    {
     "name": "stdout",
     "output_type": "stream",
     "text": [
      "NOW UNLIKED\n",
      "NOW UNLIKED\n",
      "NOW UNLIKED\n",
      "NOW UNLIKED\n",
      "NOW UNLIKED\n",
      "NOW UNLIKED\n",
      "NOW UNLIKED\n",
      "NOW UNLIKED\n",
      "NOW UNLIKED\n",
      "NOW UNLIKED\n",
      "NOW UNLIKED\n",
      "NOW UNLIKED\n",
      "NOW UNLIKED\n",
      "NOW UNLIKED\n",
      "NOW UNLIKED\n",
      "NOW UNLIKED\n",
      "NOW UNLIKED\n",
      "NOW UNLIKED\n",
      "NOW UNLIKED\n",
      "NOW UNLIKED\n",
      "NOW UNLIKED\n",
      "NOW UNLIKED\n",
      "NOW UNLIKED\n",
      "NOW UNLIKED\n",
      "NOW UNLIKED\n",
      "NOW UNLIKED\n",
      "NOW UNLIKED\n",
      "NOW UNLIKED\n",
      "NOW UNLIKED\n",
      "NOW UNLIKED\n",
      "NOW UNLIKED\n"
     ]
    }
   ],
   "source": [
    "Unlike_post('dilsefoodie')"
   ]
  },
  {
   "cell_type": "code",
   "execution_count": 41,
   "metadata": {},
   "outputs": [],
   "source": [
    "# Extract list of followers\n",
    "# Extract the usernames of the first 500 followers of ‘foodtalkindia’ and ‘sodelhi’.\n",
    "# Now print all the followers of “foodtalkindia” that you are following but those who don’t follow you."
   ]
  },
  {
   "cell_type": "code",
   "execution_count": 42,
   "metadata": {},
   "outputs": [],
   "source": [
    "sodelhi_follower = extract_follower('sodelhi')"
   ]
  },
  {
   "cell_type": "code",
   "execution_count": 43,
   "metadata": {},
   "outputs": [],
   "source": [
    "foodtalkindia_follower = extract_follower('foodtalkindia')"
   ]
  },
  {
   "cell_type": "code",
   "execution_count": 44,
   "metadata": {},
   "outputs": [],
   "source": [
    "my_following = extract_following(username)"
   ]
  },
  {
   "cell_type": "code",
   "execution_count": 45,
   "metadata": {},
   "outputs": [],
   "source": [
    "for i in foodtalkindia_follower:\n",
    "    if i in my_following:\n",
    "        their_following =  extract_following(i)\n",
    "        if username not in their_following:\n",
    "            print(i)"
   ]
  },
  {
   "cell_type": "code",
   "execution_count": 46,
   "metadata": {},
   "outputs": [],
   "source": [
    "# Check the story of ‘coding.ninjas’. Consider the following Scenarios and print error messages accordingly -\n",
    "# If You have already seen the story.\n",
    "# Or The user has no story.\n",
    "# Or View the story if not yet seen."
   ]
  },
  {
   "cell_type": "code",
   "execution_count": 47,
   "metadata": {},
   "outputs": [
    {
     "name": "stdout",
     "output_type": "stream",
     "text": [
      "ALREADY SEEN\n"
     ]
    }
   ],
   "source": [
    "check_story('coding.ninjas')"
   ]
  },
  {
   "cell_type": "code",
   "execution_count": 49,
   "metadata": {},
   "outputs": [],
   "source": [
    "driver.close()\n",
    "driver.quit()"
   ]
  },
  {
   "cell_type": "code",
   "execution_count": null,
   "metadata": {},
   "outputs": [],
   "source": []
  }
 ],
 "metadata": {
  "kernelspec": {
   "display_name": "Python 3",
   "language": "python",
   "name": "python3"
  },
  "language_info": {
   "codemirror_mode": {
    "name": "ipython",
    "version": 3
   },
   "file_extension": ".py",
   "mimetype": "text/x-python",
   "name": "python",
   "nbconvert_exporter": "python",
   "pygments_lexer": "ipython3",
   "version": "3.7.9"
  }
 },
 "nbformat": 4,
 "nbformat_minor": 4
}
