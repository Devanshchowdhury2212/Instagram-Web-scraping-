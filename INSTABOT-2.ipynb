{
 "cells": [
  {
   "cell_type": "code",
   "execution_count": 5,
   "metadata": {},
   "outputs": [],
   "source": [
    "from selenium import webdriver\n",
    "from selenium.webdriver.support import expected_conditions as EC\n",
    "from selenium.webdriver.common.keys import Keys\n",
    "from selenium.webdriver.support.ui import WebDriverWait\n",
    "from selenium.common.exceptions import TimeoutException\n",
    "from selenium.common.exceptions import SessionNotCreatedException,StaleElementReferenceException,NoSuchElementException\n",
    "import time\n",
    "from selenium.webdriver.common.by import By\n",
    "import re\n",
    "import matplotlib.pyplot as plt\n",
    "from collections import Counter\n",
    "import pandas as pd\n",
    "import numpy as np"
   ]
  },
  {
   "cell_type": "code",
   "execution_count": 58,
   "metadata": {},
   "outputs": [
    {
     "name": "stdout",
     "output_type": "stream",
     "text": [
      "Requirement already satisfied: webdriver_manager in /home/blank/anaconda3/lib/python3.7/site-packages (3.2.2)\n",
      "Requirement already satisfied: requests in /home/blank/anaconda3/lib/python3.7/site-packages (from webdriver_manager) (2.24.0)\n",
      "Requirement already satisfied: crayons in /home/blank/anaconda3/lib/python3.7/site-packages (from webdriver_manager) (0.4.0)\n",
      "Requirement already satisfied: configparser in /home/blank/anaconda3/lib/python3.7/site-packages (from webdriver_manager) (5.0.1)\n",
      "Requirement already satisfied: idna<3,>=2.5 in /home/blank/anaconda3/lib/python3.7/site-packages (from requests->webdriver_manager) (2.10)\n",
      "Requirement already satisfied: chardet<4,>=3.0.2 in /home/blank/anaconda3/lib/python3.7/site-packages (from requests->webdriver_manager) (3.0.4)\n",
      "Requirement already satisfied: certifi>=2017.4.17 in /home/blank/anaconda3/lib/python3.7/site-packages (from requests->webdriver_manager) (2020.6.20)\n",
      "Requirement already satisfied: urllib3!=1.25.0,!=1.25.1,<1.26,>=1.21.1 in /home/blank/anaconda3/lib/python3.7/site-packages (from requests->webdriver_manager) (1.25.11)\n",
      "Requirement already satisfied: colorama in /home/blank/anaconda3/lib/python3.7/site-packages (from crayons->webdriver_manager) (0.4.4)\n"
     ]
    },
    {
     "name": "stderr",
     "output_type": "stream",
     "text": [
      "[WDM] - Current google-chrome version is 87.0.4280\n",
      "[WDM] - Get LATEST driver version for 87.0.4280\n"
     ]
    },
    {
     "name": "stdout",
     "output_type": "stream",
     "text": [
      " \n"
     ]
    },
    {
     "name": "stderr",
     "output_type": "stream",
     "text": [
      "[WDM] - Driver [/home/blank/.wdm/drivers/chromedriver/linux64/87.0.4280.20/chromedriver] found in cache\n"
     ]
    }
   ],
   "source": [
    "!pip install webdriver_manager\n",
    "from selenium import webdriver\n",
    "from webdriver_manager.chrome import ChromeDriverManager\n",
    "driver = webdriver.Chrome(ChromeDriverManager().install())"
   ]
  },
  {
   "cell_type": "code",
   "execution_count": 84,
   "metadata": {},
   "outputs": [],
   "source": [
    "base_url = 'https://www.instagram.com/'\n",
    "username='YOUR USERNAME'\n",
    "password = 'YOUR PASSWORD'"
   ]
  },
  {
   "cell_type": "code",
   "execution_count": 60,
   "metadata": {},
   "outputs": [],
   "source": [
    "def login(username,password):\n",
    "    driver.get(base_url)\n",
    "    time.sleep(3)\n",
    "    detail = driver.find_elements_by_class_name('_2hvTZ')\n",
    "    detail[0].clear()\n",
    "    detail[1].clear()\n",
    "    detail[0].send_keys(username)\n",
    "    detail[1].send_keys(password)\n",
    "    driver.find_element_by_class_name('L3NKy').click()\n",
    "    time.sleep(3)\n",
    "    for i in driver.find_elements_by_tag_name('button'):\n",
    "        if i.text=='Not Now':\n",
    "            i.click()\n",
    "            break\n",
    "    time.sleep(3)\n",
    "    driver.find_element_by_class_name('HoLwm').click()"
   ]
  },
  {
   "cell_type": "code",
   "execution_count": 85,
   "metadata": {},
   "outputs": [],
   "source": [
    "def check_search(insta_handle):\n",
    "    l = []\n",
    "    driver.find_element_by_class_name('XTCLo').clear()\n",
    "    driver.find_element_by_class_name('XTCLo').send_keys(insta_handle)\n",
    "    drop = WebDriverWait(driver,5)\n",
    "    drop.until(EC.element_to_be_clickable((By.CLASS_NAME,'z556c')))\n",
    "    num = len(driver.find_elements_by_class_name('z556c'))\n",
    "    for i in driver.find_elements_by_class_name('yCE8d'):\n",
    "        nam = i.text\n",
    "        l.append(i.get_attribute('href'))\n",
    "    driver.find_element_by_class_name('aIYm8').click()\n",
    "    return l\n",
    "def open_handle(insta_handle):\n",
    "    # opens the insta handle for the specified user name\n",
    "    driver.get(base_url)\n",
    "    driver.find_element_by_class_name('XTCLo').clear()\n",
    "    driver.find_element_by_class_name('XTCLo').send_keys(insta_handle)\n",
    "    drop = WebDriverWait(driver,5)\n",
    "    drop.until(EC.element_to_be_clickable((By.CLASS_NAME,'z556c')))\n",
    "    num = len(driver.find_elements_by_class_name('z556c'))\n",
    "    driver.find_element_by_class_name('z556c').click()\n",
    "    time.sleep(3)\n",
    "\n",
    "def str_num(x):\n",
    "    #used to convert the string to number , like 12m to 12000000\n",
    "    ans=''\n",
    "    for i in x[:-1]:\n",
    "        if i !='.':\n",
    "            ans+=i\n",
    "    if x[-1].lower()=='k':\n",
    "        ans+='000'\n",
    "    elif x[-1].lower()=='m':\n",
    "        ans+='000000'\n",
    "    else:\n",
    "        ans+=x[-1]\n",
    "\n",
    "    return int(ans)\n",
    "def posts_recent(name,num = 10):\n",
    "    # Gives the count of posts made in last particular number of days.By default 10.\n",
    "    if driver.current_url==base_url or name :\n",
    "        open_handle(name)\n",
    "    ans = 0\n",
    "    WebDriverWait(driver,3).until(EC.element_to_be_clickable((By.CLASS_NAME,'_9AhH0')))\n",
    "    driver.find_element_by_class_name('_9AhH0').click()\n",
    "    while 2:\n",
    "        time.sleep(3)\n",
    "#         driver.find_element_by_xpath('/html/body/div[4]/div[2]/div/article/div[3]/section[1]/span[1]/button/div/span').click()\n",
    "        msg = driver.find_element_by_class_name('c-Yi7').text.lower()\n",
    "        if re.search('hour',msg) or re.search('minute',msg) or re.search('second',msg):        \n",
    "            ans+=1\n",
    "        elif re.search('day',msg):\n",
    "            log = int(re.search(r'[\\d]+',msg).group())\n",
    "            if log<num:\n",
    "                ans+=1\n",
    "            else:\n",
    "                driver.find_elements_by_class_name('wpO6b')[-1].click()\n",
    "                return ans\n",
    "        else:\n",
    "            driver.find_elements_by_class_name('wpO6b')[-1].click()\n",
    "            return ans\n",
    "        driver.find_element_by_class_name('coreSpriteRightPaginationArrow').click()    \n",
    "        \n",
    "        \n",
    "def posts_recent_content(name,num = 10):\n",
    "    # Scrapes the content of particular number of recent posts and return all in one string\n",
    "    if driver.current_url==base_url or name :\n",
    "        open_handle(name)\n",
    "    ans = 0\n",
    "    content = ''\n",
    "    WebDriverWait(driver,3).until(EC.element_to_be_clickable((By.CLASS_NAME,'_9AhH0')))\n",
    "    driver.find_element_by_class_name('_9AhH0').click()\n",
    "    while ans<num:\n",
    "        time.sleep(2)\n",
    "        content = content+driver.find_element_by_class_name('C4VMK').text\n",
    "        ans+=1\n",
    "        driver.find_element_by_class_name('coreSpriteRightPaginationArrow').click()\n",
    "    driver.find_elements_by_class_name('wpO6b')[-1].click()\n",
    "    return content\n",
    "def absolute_value(val):\n",
    "    # As i have how much % age each category represent this function just gives that number \n",
    "    sums=0\n",
    "    for i in pie_chart[:,1]:\n",
    "        sums+=float(i)\n",
    "    a  = np.round(val/100*sums, 0)\n",
    "    return int(a)\n",
    "def find_num(s):\n",
    "    # This is used to make string to number type . This is used when i scrape for likes this makes 12,121 likes to 12121.\n",
    "    a=''\n",
    "    for i in s:\n",
    "        if ord(i)>=48 and ord(i)<=57:\n",
    "            a+=i\n",
    "    return int(a)\n",
    "def posts_recent_like_count(name,num = 10):\n",
    "    # This is to get the info of the top 10 / highest 10 posts likes count .\n",
    "    #First I scrape all the picture using scrolling and store all posts link.\n",
    "    # Then traverse all posts and then scrape for the likes they got.\n",
    "    # By default top 10.\n",
    "    links=set()\n",
    "    if driver.current_url==base_url or name :\n",
    "        open_handle(name)\n",
    "    ans = 0\n",
    "    curr = 0\n",
    "    while curr!=driver.execute_script('return document.body.scrollHeight;'):\n",
    "        curr = driver.execute_script('return document.body.scrollHeight;')\n",
    "        driver.execute_script('window.scrollTo(0,document.body.scrollHeight)')\n",
    "        time.sleep(2)\n",
    "        for i in driver.find_elements_by_xpath('//div[contains(@class,\"v1Nh3\")]/a'):\n",
    "            lin = i.get_attribute('href')\n",
    "            links.add(lin) \n",
    "    content = []\n",
    "    for i in links:              \n",
    "        driver.get(i)\n",
    "        if len(driver.find_elements_by_class_name('Nm9Fw')):\n",
    "            val = re.search(r'[\\d,]+',driver.find_element_by_class_name('EDfFK').text).group()\n",
    "            val = find_num(val)\n",
    "            if len(content)>0 and val==content[-1]:\n",
    "                pass\n",
    "            else:\n",
    "                content.append(val)\n",
    "        else:\n",
    "            driver.find_element_by_class_name('vcOH2').click()\n",
    "            val = re.search(r'[\\d,]+',driver.find_element_by_class_name('vJRqr').text).group()\n",
    "            val = find_num(val)\n",
    "            if len(content)>0 and val==content[-1]:\n",
    "                pass\n",
    "            else:\n",
    "                content.append(val)\n",
    "            driver.find_element_by_class_name('QhbhU').click()\n",
    "        driver.find_elements_by_class_name('wpO6b')[-1].click()\n",
    "        time.sleep(3)\n",
    "    open_handle(name)\n",
    "    content.sort(reverse=True)\n",
    "    \n",
    "    return content[:num]\n"
   ]
  },
  {
   "cell_type": "code",
   "execution_count": 62,
   "metadata": {},
   "outputs": [],
   "source": [
    "login(username,password)"
   ]
  },
  {
   "cell_type": "code",
   "execution_count": 10,
   "metadata": {},
   "outputs": [],
   "source": [
    "# From the list of instagram handles you obtained when you searched ‘food’ in previous project.\n",
    "# Open the first 10 handles and find the top 5 which have the highest number of followers"
   ]
  },
  {
   "cell_type": "code",
   "execution_count": 17,
   "metadata": {},
   "outputs": [
    {
     "name": "stdout",
     "output_type": "stream",
     "text": [
      "['foodnetwork', 'foodgod', 'food52', 'foodfusionpk', 'food.spy.ir']\n"
     ]
    }
   ],
   "source": [
    "food_blogger = check_search('food')\n",
    "top_10 = {}\n",
    "for i in food_blogger[:10]:\n",
    "    driver.get(i)\n",
    "    time.sleep(2)\n",
    "    b = str_num(re.search(r'[\\d.]+[m,k]*',driver.find_element_by_partial_link_text('followers').text).group())\n",
    "    top_10[i]=b\n"
   ]
  },
  {
   "cell_type": "code",
   "execution_count": 22,
   "metadata": {},
   "outputs": [
    {
     "name": "stdout",
     "output_type": "stream",
     "text": [
      "['foodnetwork', 'foodgod', 'food52', 'foodfusionpk', 'food.spy.ir']\n"
     ]
    }
   ],
   "source": [
    "names,posts = [],[]\n",
    "for i in sorted(top_10.items(), key = lambda kv:(kv[1], kv[0]),reverse=True)[:5]:\n",
    "        user_name = i[0].split('/')[-2]\n",
    "        posts_done = posts_recent(user_name,3)\n",
    "        names.append(user_name)\n",
    "        posts.append(posts_done)\n",
    "print(names)"
   ]
  },
  {
   "cell_type": "code",
   "execution_count": 24,
   "metadata": {},
   "outputs": [],
   "source": [
    "#Now Find the number of posts these handles have done in the previous 3 days."
   ]
  },
  {
   "cell_type": "code",
   "execution_count": 23,
   "metadata": {},
   "outputs": [
    {
     "name": "stdout",
     "output_type": "stream",
     "text": [
      "foodnetwork 34\n",
      "foodgod 2\n",
      "food52 12\n",
      "foodfusionpk 3\n",
      "food.spy.ir 6\n"
     ]
    }
   ],
   "source": [
    "for i in range(5):\n",
    "    print(names[i],posts[i])"
   ]
  },
  {
   "cell_type": "code",
   "execution_count": 25,
   "metadata": {},
   "outputs": [],
   "source": [
    "#Depict this information using a suitable graph."
   ]
  },
  {
   "cell_type": "code",
   "execution_count": 26,
   "metadata": {},
   "outputs": [
    {
     "data": {
      "text/plain": [
       "<BarContainer object of 5 artists>"
      ]
     },
     "execution_count": 26,
     "metadata": {},
     "output_type": "execute_result"
    },
    {
     "data": {
      "image/png": "[encoded data removed]",
      "text/plain": [
       "<Figure size 432x288 with 1 Axes>"
      ]
     },
     "metadata": {
      "needs_background": "light"
     },
     "output_type": "display_data"
    }
   ],
   "source": [
    "plt.bar(names,posts)"
   ]
  },
  {
   "cell_type": "code",
   "execution_count": 28,
   "metadata": {},
   "outputs": [],
   "source": [
    "# Open the 5 handles you obtained in the last question, and scrape the content of the first 10 posts of each handle."
   ]
  },
  {
   "cell_type": "code",
   "execution_count": 29,
   "metadata": {},
   "outputs": [],
   "source": [
    "all_posts=''\n",
    "for i in names:\n",
    "    all_posts+=posts_recent_content(i)"
   ]
  },
  {
   "cell_type": "code",
   "execution_count": 30,
   "metadata": {},
   "outputs": [],
   "source": [
    "#Prepare a list of all words used in all the scraped posts and calculate the frequency of each word."
   ]
  },
  {
   "cell_type": "code",
   "execution_count": 31,
   "metadata": {},
   "outputs": [],
   "source": [
    "s = ''\n",
    "for i in all_posts:\n",
    "    if ord(i) in [32,35] or (ord(i)>96 and ord(i)<123)or (ord(i)>64 and ord(i)<91):\n",
    "        s+=i\n",
    "counter = Counter(s.lower().split())\n",
    "# I have not removed number as one may have hashtag with number in it.\n",
    "s = ''\n",
    "for i in all_posts:\n",
    "    if i in ['(',')','[',']','{','}']:\n",
    "        s+=' '\n",
    "    else:\n",
    "        s+=i\n",
    "counter = Counter(s.lower().split())\n",
    "for i in counter:\n",
    "    print(i,counter[i])"
   ]
  },
  {
   "cell_type": "code",
   "execution_count": 42,
   "metadata": {},
   "outputs": [],
   "source": [
    "# Create a csv file with two columns : the word and its frequency"
   ]
  },
  {
   "cell_type": "code",
   "execution_count": 43,
   "metadata": {},
   "outputs": [],
   "source": [
    "data = pd.DataFrame.from_dict(counter,orient='index').reset_index()\n",
    "data.columns=['Words','frequency']\n",
    "data.to_csv('INSTABOT_21.csv',index=False)"
   ]
  },
  {
   "cell_type": "code",
   "execution_count": 44,
   "metadata": {},
   "outputs": [],
   "source": [
    "# Now, find the hashtags that were most popular among these bloggers"
   ]
  },
  {
   "cell_type": "code",
   "execution_count": 45,
   "metadata": {},
   "outputs": [
    {
     "name": "stdout",
     "output_type": "stream",
     "text": [
      "#foodfusion 13\n",
      "#باجناق_تیستر 9\n",
      "#happycookingtoyou 7\n",
      "#instafood 7\n",
      "#foodstagram 7\n",
      "#cooking 5\n",
      "#f52community 4\n",
      "#f52grams 3\n",
      "#winterrecipes 3\n",
      "#recipes 3\n",
      "#recipe 3\n",
      "#snacks 3\n",
      "#quickfood 3\n",
      "#جوجه_کباب 3\n",
      "#howtothanksgiving 2\n",
      "#holidaybakingchampionship 2\n",
      "#f52partner 2\n",
      "#corn 2\n",
      "#tikki 2\n",
      "#کترینگ 2\n",
      "#غذای_آماده 2\n",
      "#کباب 2\n",
      "#فوداسپای_کاشانی 2\n",
      "#خورشت 2\n",
      "#قیمه 2\n",
      "#قورمه 2\n",
      "#فوداسپای_نارمک 2\n",
      "#گوشت 2\n",
      "#مرغ 2\n",
      "#پروتئینی 2\n",
      "#تولید_سوسیس 2\n",
      "#فوداسپای_نازی_آباد 2\n",
      "#thekitchen 1\n",
      "#buddyvschristmas 1\n",
      "#happpycookingtoyou 1\n",
      "#soup 1\n",
      "#wintersoup 1\n",
      "#eggmasala 1\n",
      "#cornonthecob 1\n",
      "#foodsstagram 1\n",
      "#pumpkinseads 1\n",
      "#dalgona 1\n",
      "#dalgonacoffee 1\n",
      "#mochacoffee 1\n",
      "#coffee 1\n",
      "#cofeerecipe 1\n",
      "# 1\n",
      "#winterdrinks 1\n",
      "#drinks 1\n",
      "#happycookigntoyou 1\n",
      "#reshmichicken 1\n",
      "#chickenrecipe 1\n",
      "#foodfusionrecipe 1\n",
      "#chickencurry 1\n",
      "#curry 1\n",
      "#foodie 1\n",
      "#instafoodie 1\n",
      "#homecooking 1\n",
      "#foodfusionpk 1\n",
      "#carrot 1\n",
      "#winter 1\n",
      "#snackrecipes 1\n",
      "#pakistanifusion 1\n",
      "#carrots 1\n",
      "#halwa 1\n",
      "#desicooking 1\n",
      "#harbaarzaiqaydaar 1\n",
      "#wohiriwayatimaza 1\n",
      "#biryani 1\n",
      "#rice 1\n",
      "#malaiboti 1\n",
      "#boti 1\n",
      "#moongdal 1\n",
      "#pakistanicooking 1\n",
      "#desifood 1\n",
      "#ساندویچ 1\n",
      "#پیتزا 1\n",
      "#فوداسپای_شریعتی 1\n",
      "#آموزش_آشپزی 1\n",
      "#دوره_تخصصی 1\n",
      "#سرآشپز 1\n",
      "#اسپیناس_پالاس 1\n",
      "#حلزون 1\n",
      "#تبلیغات 1\n",
      "#foodfestival 1\n",
      "#halazoongroup 1\n",
      "#آجیل 1\n",
      "#عسل 1\n",
      "#کره_شش_مغز 1\n",
      "#فوداسپای_نیاوران 1\n",
      "#کوردن_بلو 1\n",
      "#زرشک_پلو 1\n",
      "#فوداسپای_ستارخان 1\n"
     ]
    }
   ],
   "source": [
    "d=Counter()\n",
    "for i in counter.most_common():\n",
    "    if i[0][0]=='#':\n",
    "        print(i[0],counter[i[0]])\n",
    "        d[i[0]]=counter[i[0]]"
   ]
  },
  {
   "cell_type": "code",
   "execution_count": 81,
   "metadata": {},
   "outputs": [],
   "source": [
    "# Plot a Pie Chart of the top 5 hashtags obtained and \n",
    "# the number of times they were used by these bloggers in the scraped posts.\n"
   ]
  },
  {
   "cell_type": "code",
   "execution_count": 80,
   "metadata": {},
   "outputs": [
    {
     "data": {
      "text/plain": [
       "([<matplotlib.patches.Wedge at 0x7f9c7f7ad7d0>,\n",
       "  <matplotlib.patches.Wedge at 0x7f9c7f7390d0>,\n",
       "  <matplotlib.patches.Wedge at 0x7f9c7f7398d0>,\n",
       "  <matplotlib.patches.Wedge at 0x7f9c7f750150>,\n",
       "  <matplotlib.patches.Wedge at 0x7f9c7f750a90>],\n",
       " [Text(0.6400448207491376, 0.8946187050538372, '#foodfusion'),\n",
       "  Text(-0.9173975725872823, 0.6069445557964602, '#باجناق_تیستر'),\n",
       "  Text(-0.9173976294135288, -0.6069444699034977, '#happycookingtoyou'),\n",
       "  Text(0.04017419305110425, -1.099266134388162, '#instafood'),\n",
       "  Text(0.9592543436832606, -0.5383596419911111, '#foodstagram')],\n",
       " [Text(0.3491153567722568, 0.4879738391202748, '13'),\n",
       "  Text(-0.5003986759566994, 0.33106066679806917, '9'),\n",
       "  Text(-0.5003987069528338, -0.33106061994736236, '7'),\n",
       "  Text(0.021913196209693227, -0.5995997096662702, '7'),\n",
       "  Text(0.5232296420090512, -0.2936507138133333, '7')])"
      ]
     },
     "execution_count": 80,
     "metadata": {},
     "output_type": "execute_result"
    },
    {
     "data": {
      "image/png": "[encoded data removed]",
      "text/plain": [
       "<Figure size 432x288 with 1 Axes>"
      ]
     },
     "metadata": {},
     "output_type": "display_data"
    }
   ],
   "source": [
    "pie_chart = list(d.most_common(5))\n",
    "pie_chart = np.array(pie_chart)\n",
    "plt.pie(pie_chart[:,1],labels=pie_chart[:,0],autopct=absolute_value)"
   ]
  },
  {
   "cell_type": "code",
   "execution_count": 82,
   "metadata": {},
   "outputs": [],
   "source": [
    "# Find out the likes of the top 10 posts of the 5 handles obtained earlier.\n",
    "\n",
    "# ---------------------------------------------------------\n",
    "\n",
    "\n",
    "# The following code may take hours to run and require a perfectly stable connections .\n",
    "\n",
    "# This took several tries as even a moment of internet being slow will halt and give error for the whole program.\n",
    "\n",
    "# I Also tried to click on post and then navigate one by one using right arrow on screen \n",
    "# but that method was even more unreliable\n",
    "\n",
    "\n",
    "# -----------------------------------------------------"
   ]
  },
  {
   "cell_type": "code",
   "execution_count": 69,
   "metadata": {},
   "outputs": [
    {
     "name": "stdout",
     "output_type": "stream",
     "text": [
      "foodnetwork [187804, 101802, 99284, 94033, 92551, 90890, 85667, 83133, 81579, 78803]\n",
      "foodgod [185237, 101670, 41395, 40194, 39549, 29850, 21807, 19417, 16202, 13136]\n",
      "food52 [30540, 21169, 15940, 13860, 9046, 5337, 5325, 4710, 3423, 2540]\n",
      "foodfusionpk [9509, 9481, 9212, 8354, 8139, 7125, 6506, 5886, 3895, 3052]\n",
      "food.spy.ir [71902, 48944, 41970, 39790, 39697, 30353, 27478, 25780, 21612, 20700]\n"
     ]
    }
   ],
   "source": [
    "like_ratio=[]\n",
    "for i in names:\n",
    "    likes = posts_recent_like_count(i)\n",
    "    print(i,likes)\n",
    "    like_ratio.append(likes)"
   ]
  },
  {
   "cell_type": "code",
   "execution_count": 50,
   "metadata": {},
   "outputs": [],
   "source": [
    "# Calculate the average likes for a handle."
   ]
  },
  {
   "cell_type": "code",
   "execution_count": 71,
   "metadata": {},
   "outputs": [
    {
     "name": "stdout",
     "output_type": "stream",
     "text": [
      "foodnetwork 99554.6\n",
      "foodgod 50845.7\n",
      "food52 11189.0\n",
      "foodfusionpk 7115.9\n",
      "food.spy.ir 36822.6\n"
     ]
    }
   ],
   "source": [
    "for i in range(5):\n",
    "    print(names[i],sum(like_ratio[i])/len(like_ratio[i]))"
   ]
  },
  {
   "cell_type": "code",
   "execution_count": 72,
   "metadata": {},
   "outputs": [],
   "source": [
    "# Divide the average likes obtained from the number of \n",
    "# followers of the handle to get the average followers:like ratio of each handle."
   ]
  },
  {
   "cell_type": "code",
   "execution_count": 75,
   "metadata": {},
   "outputs": [],
   "source": [
    "like_follower_mean = []\n",
    "for i in range(5):\n",
    "    res = top_10[base_url+str(names[i])+'/']\n",
    "    ans = sum(like_ratio[i])/len(like_ratio[i])\n",
    "    like_follower_mean.append(ans)\n",
    "    "
   ]
  },
  {
   "cell_type": "code",
   "execution_count": 76,
   "metadata": {},
   "outputs": [],
   "source": [
    "# Create a bar graph to depict the above obtained information."
   ]
  },
  {
   "cell_type": "code",
   "execution_count": 77,
   "metadata": {},
   "outputs": [
    {
     "data": {
      "text/plain": [
       "<BarContainer object of 5 artists>"
      ]
     },
     "execution_count": 77,
     "metadata": {},
     "output_type": "execute_result"
    },
    {
     "data": {
      "image/png": "[encoded data removed]",
      "text/plain": [
       "<Figure size 432x288 with 1 Axes>"
      ]
     },
     "metadata": {
      "needs_background": "light"
     },
     "output_type": "display_data"
    }
   ],
   "source": [
    "plt.bar(names,like_follower_mean)"
   ]
  },
  {
   "cell_type": "code",
   "execution_count": null,
   "metadata": {},
   "outputs": [],
   "source": []
  },
  {
   "cell_type": "code",
   "execution_count": null,
   "metadata": {},
   "outputs": [],
   "source": [
    "driver.close()"
   ]
  },
  {
   "cell_type": "code",
   "execution_count": null,
   "metadata": {},
   "outputs": [],
   "source": [
    "driver.quit()"
   ]
  },
  {
   "cell_type": "code",
   "execution_count": null,
   "metadata": {},
   "outputs": [],
   "source": [
    "from sys import stdin \n",
    "def stockSpan(price, n) : \n",
    "    stk = list() \n",
    "    output = [-1] * n \n",
    "    stk.append(0) \n",
    "    output[0] = 1 \n",
    "    for i in range(1, n) : \n",
    "        while (not isEmpty(stk)) and (price[top(stk)] < price[i]) :\n",
    "             stk.pop() \n",
    "        if isEmpty(stk) : \n",
    "            output[i] = i + 1 \n",
    "        else :\n",
    "            output[i] = i - top(stk) \n",
    "        stk.append(i) \n",
    "    return output \n",
    "def isEmpty(stack) : \n",
    "    return len(stack) == 0 \n",
    "def top(stack) :\n",
    "    return stack[len(stack) - 1] \n",
    "def printList(arr) : \n",
    "    for i in range(len(arr)) : \n",
    "        print(arr[i], end = \" \") \n",
    "        print() \n",
    "def takeInput(): \n",
    "    size = int(stdin.readline().strip()) \n",
    "    if size == 0 : \n",
    "        return list(), 0 price = list(map(int, stdin.readline().strip().split(\" \"))) return price, size #main price, n = takeInput() output = stockSpan(price, n) printList(output)"
   ]
  },
  {
   "cell_type": "code",
   "execution_count": null,
   "metadata": {},
   "outputs": [],
   "source": []
  },
  {
   "cell_type": "code",
   "execution_count": null,
   "metadata": {},
   "outputs": [],
   "source": []
  },
  {
   "cell_type": "code",
   "execution_count": null,
   "metadata": {},
   "outputs": [],
   "source": []
  },
  {
   "cell_type": "code",
   "execution_count": null,
   "metadata": {},
   "outputs": [],
   "source": []
  },
  {
   "cell_type": "code",
   "execution_count": null,
   "metadata": {},
   "outputs": [],
   "source": []
  },
  {
   "cell_type": "code",
   "execution_count": null,
   "metadata": {},
   "outputs": [],
   "source": []
  },
  {
   "cell_type": "code",
   "execution_count": null,
   "metadata": {},
   "outputs": [],
   "source": []
  },
  {
   "cell_type": "code",
   "execution_count": null,
   "metadata": {},
   "outputs": [],
   "source": []
  },
  {
   "cell_type": "code",
   "execution_count": null,
   "metadata": {},
   "outputs": [],
   "source": []
  },
  {
   "cell_type": "code",
   "execution_count": null,
   "metadata": {},
   "outputs": [],
   "source": []
  }
 ],
 "metadata": {
  "kernelspec": {
   "display_name": "Python 3",
   "language": "python",
   "name": "python3"
  },
  "language_info": {
   "codemirror_mode": {
    "name": "ipython",
    "version": 3
   },
   "file_extension": ".py",
   "mimetype": "text/x-python",
   "name": "python",
   "nbconvert_exporter": "python",
   "pygments_lexer": "ipython3",
   "version": "3.7.9"
  }
 },
 "nbformat": 4,
 "nbformat_minor": 4
}